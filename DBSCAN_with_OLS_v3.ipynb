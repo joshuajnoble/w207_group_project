{
 "cells": [
  {
   "cell_type": "markdown",
   "metadata": {},
   "source": [
    "# Regressing Sales Data against Demographics-based Clustering #\n",
    "\n",
    "### Final Project for W207 Fall 2020 ###\n",
    "\n",
    "Authors: Emily Brantner, Duncan Howard, Joshua Noble, Gabriel Ohaike, Sarah Yifei Wang\n",
    "Instructor: Peter Grabowski"
   ]
  },
  {
   "cell_type": "markdown",
   "metadata": {},
   "source": [
    "## Intro ##\n",
    "\n",
    "This notebook uses the HDBSCAN library for clustering, which can be installed using the instructions found [here](https://pypi.org/project/hdbscan/)\n",
    "\n",
    "It makes use of data acquired from: \n",
    "\n",
    "Social Explorer: www.socialexplorer.com from the following report: http://www.socialexplorer.com/pub/reportdata/HtmlResults.aspx?reportid=R12683096\n",
    "\n",
    "Redfin, a national real estate brokerage: https://www.redfin.com/news/data-center/"
   ]
  },
  {
   "cell_type": "code",
   "execution_count": 93,
   "metadata": {},
   "outputs": [],
   "source": [
    "import numpy as np\n",
    "\n",
    "from matplotlib import pyplot\n",
    "import matplotlib.pyplot as plt\n",
    "from sklearn.datasets import make_classification\n",
    "from sklearn.cluster import DBSCAN\n",
    "import hdbscan\n",
    "from sklearn import metrics\n",
    "from sklearn.preprocessing import StandardScaler\n",
    "from sklearn.preprocessing import MinMaxScaler\n",
    "import statsmodels.api as sm\n",
    "import pandas as pd"
   ]
  },
  {
   "cell_type": "markdown",
   "metadata": {},
   "source": [
    "First we'll load our dataframe and delete some columns which are part of the ACS template, but are all empty:"
   ]
  },
  {
   "cell_type": "code",
   "execution_count": 94,
   "metadata": {},
   "outputs": [
    {
     "name": "stdout",
     "output_type": "stream",
     "text": [
      "(33120, 2151)\n"
     ]
    }
   ],
   "source": [
    "#load dataframe from csv\n",
    "demographics_data = pd.read_csv(\"2018_demographic_data_edited.csv\", delimiter=',')\n",
    "print(demographics_data.shape)\n",
    "demographics_data = demographics_data.drop(columns=[\"Geo_ZCTA5\", \"Geo_ZCTA3\", \"Geo_LOGRECNO\", \"Geo_GEOCOMP\", \"Geo_SUMLEV\"])"
   ]
  },
  {
   "cell_type": "markdown",
   "metadata": {},
   "source": [
    "The fields are codes from the ACS survey for which the key can be found [here](2018_demographic_key.txt). The fields are in some places numerical data and in others categorical, averages in some cases, and aggregates in others.\n",
    "\n",
    "As we can see here, the data is a bit spotty in places:"
   ]
  },
  {
   "cell_type": "code",
   "execution_count": 95,
   "metadata": {},
   "outputs": [
    {
     "name": "stdout",
     "output_type": "stream",
     "text": [
      "SE_A01004_001      564\n",
      "SE_A01004_002      843\n",
      "SE_A01004_003      897\n",
      "SE_A10003_001      726\n",
      "SE_A10003B_001    2496\n",
      "                  ... \n",
      "SE_A13007_009       35\n",
      "SE_A13007_010       35\n",
      "SE_A13007_011       35\n",
      "SE_A10064_001       35\n",
      "SE_A10064_002       35\n",
      "Length: 870, dtype: int64\n"
     ]
    }
   ],
   "source": [
    "null_counts = demographics_data.isnull().sum()\n",
    "print(null_counts[null_counts > 0])"
   ]
  },
  {
   "cell_type": "markdown",
   "metadata": {},
   "source": [
    "870 of our 2151 fields have null results, so we can drop any column with missing values greater than 7.5%"
   ]
  },
  {
   "cell_type": "code",
   "execution_count": 96,
   "metadata": {},
   "outputs": [
    {
     "name": "stdout",
     "output_type": "stream",
     "text": [
      "(33120, 2038)\n"
     ]
    }
   ],
   "source": [
    "drop_columns = []\n",
    "\n",
    "for i in demographics_data.columns:\n",
    "    if demographics_data[i].isnull().sum()/len(demographics_data) > 0.075:\n",
    "        drop_columns.append(i)\n",
    "        \n",
    "demographics_data = demographics_data.drop(columns=drop_columns)\n",
    "print(demographics_data.shape)"
   ]
  },
  {
   "cell_type": "code",
   "execution_count": 138,
   "metadata": {},
   "outputs": [
    {
     "name": "stdout",
     "output_type": "stream",
     "text": [
      "1220\n",
      "1220\n",
      "2229\n"
     ]
    }
   ],
   "source": [
    "print(demographics_data[\"SE_A14018_001\"].isnull().sum())\n",
    "#A14008_001\n",
    "print(demographics_data[\"SE_A14008_001\"].isnull().sum())\n",
    "#A14006_001\n",
    "print(demographics_data[\"SE_A14006_001\"].isnull().sum())"
   ]
  },
  {
   "cell_type": "markdown",
   "metadata": {},
   "source": [
    "Now we've gotten rid of most of the fields that could cause us problems later. However, plenty of fields are still null for certain zip codes, so we'll be making heavy use of fillna throughout."
   ]
  },
  {
   "cell_type": "markdown",
   "metadata": {},
   "source": [
    "## Clustering ##\n",
    "\n",
    "After some experimentation, we arrived at meaningful clusters using HDBSCAN and the following fields: Gini index of the zip code, Average household income of the zip code, vacancy rate of homes in the zip code, the ratio of average home value to average income in the zip code, and the ratio of residents who rent rather than own their residences:"
   ]
  },
  {
   "cell_type": "code",
   "execution_count": 173,
   "metadata": {},
   "outputs": [
    {
     "name": "stdout",
     "output_type": "stream",
     "text": [
      "SE_A14028_001           948\n",
      "SE_A14018_001          1220\n",
      "SE_A17009_002            35\n",
      "SE_A17009_003            35\n",
      "SE_A17009_004            35\n",
      "SE_A17009_005            35\n",
      "SE_A17009_006            35\n",
      "vacancy_rate            490\n",
      "income_to_homevalue    2502\n",
      "renters_pct             490\n",
      "dtype: int64\n",
      "(30618, 11)\n"
     ]
    }
   ],
   "source": [
    "\n",
    "# gini index, median household income, and area of occupation\n",
    "reduced_demos = demographics_data[[\"zip\", \"SE_A14028_001\", \"SE_A14018_001\", \"SE_A17009_002\", \"SE_A17009_003\", \"SE_A17009_004\", \"SE_A17009_005\", \"SE_A17009_006\"]]\n",
    "reduced_demos.is_copy = False\n",
    "# create 3 new metrics\n",
    "reduced_demos = reduced_demos.assign(vacancy_rate=demographics_data[\"SE_A10001_001\"].divide(demographics_data[\"SE_A10044_002\"]))\n",
    "reduced_demos = reduced_demos.assign(income_to_homevalue = demographics_data[\"SE_A10036_001\"].divide(demographics_data[\"SE_A14018_001\"]))\n",
    "reduced_demos = reduced_demos.assign(renters_pct= demographics_data[\"SE_A10060_003\"].divide(demographics_data[\"SE_A10001_001\"]))\n",
    "\n",
    "# how many null counts do we have?\n",
    "null_counts = reduced_demos.isnull().sum()\n",
    "print(null_counts[null_counts > 0])\n",
    "reduced_demos = reduced_demos.dropna()\n",
    "print(reduced_demos.shape)\n",
    "\n",
    "reduced_demos_no_zip = reduced_demos.drop(\"zip\", axis=1).copy()"
   ]
  },
  {
   "cell_type": "markdown",
   "metadata": {},
   "source": [
    "Now that we have demographic data for our clustering, we can go ahead and cluster using HDBSCAN. We want to minimize the number of points classified as noise and also look for clusters which are similar in size. Having extremely small or extremely large clusters likely will be a sign that we haven't selected appropriate statistics or that we need to tune parameters for clustering:"
   ]
  },
  {
   "cell_type": "code",
   "execution_count": 206,
   "metadata": {},
   "outputs": [
    {
     "name": "stdout",
     "output_type": "stream",
     "text": [
      "Created  106  clusters and  2308  noise points. Noise is  0.075 % of dataset \n"
     ]
    },
    {
     "data": {
      "image/png": "[encoded data removed]",
      "text/plain": [
       "<Figure size 432x288 with 1 Axes>"
      ]
     },
     "metadata": {
      "needs_background": "light"
     },
     "output_type": "display_data"
    }
   ],
   "source": [
    "\n",
    "# run the clustering algorithm, use leaf to ensure that we keep creating clusters from large clusters \n",
    "clusterer = hdbscan.HDBSCAN(min_cluster_size=150, min_samples=3, cluster_selection_method='leaf')\n",
    "clusterer.fit(reduced_demos_no_zip)\n",
    "\n",
    "# how many labels do we have and how much noise has HDBSCAN discarded?\n",
    "labels = clusterer.labels_\n",
    "unique_labels = set(labels)\n",
    "print( \"Created \", len(unique_labels), \" clusters and \", (labels == -1).sum(), \" noise points. Noise is \", round((labels == -1).sum()/len(labels), 3), \" of dataset \")\n",
    "\n",
    "#how many zip codes are in each cluster?\n",
    "label_sum = []\n",
    "\n",
    "for k in unique_labels:\n",
    "    label_sum.append((labels == k).sum())\n",
    "    \n",
    "non_noise = labels[labels != -1]\n",
    "\n",
    "# graph all the non-noise labels so that we can see what we have\n",
    "plt.hist(non_noise, bins=len(unique_labels)-1)\n",
    "plt.show()"
   ]
  },
  {
   "cell_type": "markdown",
   "metadata": {},
   "source": [
    "There are several large clusters (>500) but largely our clusterng seems homogenous in size. Only 7.5% of our zip codes are noise, meaning that 92.5% of our zip codes are within clusters. Now we can begin to turn our clusters into data that we can use in a linear regrssion. There's some data massaging we need to do in order to prepare for the regression though. First, we'll use a dataframe to store just the zip code for each cluster."
   ]
  },
  {
   "cell_type": "code",
   "execution_count": 200,
   "metadata": {},
   "outputs": [
    {
     "data": {
      "text/html": [
       "<div>\n",
       "<style scoped>\n",
       "    .dataframe tbody tr th:only-of-type {\n",
       "        vertical-align: middle;\n",
       "    }\n",
       "\n",
       "    .dataframe tbody tr th {\n",
       "        vertical-align: top;\n",
       "    }\n",
       "\n",
       "    .dataframe thead th {\n",
       "        text-align: right;\n",
       "    }\n",
       "</style>\n",
       "<table border=\"1\" class=\"dataframe\">\n",
       "  <thead>\n",
       "    <tr style=\"text-align: right;\">\n",
       "      <th></th>\n",
       "      <th>zip</th>\n",
       "      <th>cluster</th>\n",
       "    </tr>\n",
       "  </thead>\n",
       "  <tbody>\n",
       "    <tr>\n",
       "      <th>0</th>\n",
       "      <td>601</td>\n",
       "      <td>56</td>\n",
       "    </tr>\n",
       "    <tr>\n",
       "      <th>1</th>\n",
       "      <td>602</td>\n",
       "      <td>30</td>\n",
       "    </tr>\n",
       "    <tr>\n",
       "      <th>2</th>\n",
       "      <td>603</td>\n",
       "      <td>15</td>\n",
       "    </tr>\n",
       "    <tr>\n",
       "      <th>3</th>\n",
       "      <td>606</td>\n",
       "      <td>77</td>\n",
       "    </tr>\n",
       "    <tr>\n",
       "      <th>4</th>\n",
       "      <td>610</td>\n",
       "      <td>41</td>\n",
       "    </tr>\n",
       "  </tbody>\n",
       "</table>\n",
       "</div>"
      ],
      "text/plain": [
       "   zip  cluster\n",
       "0  601       56\n",
       "1  602       30\n",
       "2  603       15\n",
       "3  606       77\n",
       "4  610       41"
      ]
     },
     "execution_count": 200,
     "metadata": {},
     "output_type": "execute_result"
    }
   ],
   "source": [
    "clusters = reduced_demos[['zip']]\n",
    "clusters = clusters.assign(cluster=labels)\n",
    "clusters.head()"
   ]
  },
  {
   "cell_type": "markdown",
   "metadata": {},
   "source": [
    "Now let's get the sales data for each zip code:"
   ]
  },
  {
   "cell_type": "code",
   "execution_count": 190,
   "metadata": {},
   "outputs": [
    {
     "name": "stdout",
     "output_type": "stream",
     "text": [
      "      zip  01/02/2016  01/03/2016  01/04/2016  01/05/2016  01/06/2016  \\\n",
      "0   501.0        0.00        0.00        0.00        0.00        0.00   \n",
      "1  1005.0        0.15        0.06       -0.30       -0.24        0.34   \n",
      "2  1010.0        0.00        0.00        0.00        0.00        0.00   \n",
      "3  1031.0        7.05        6.12       -0.25       -0.25       -0.83   \n",
      "4  1037.0        0.00        0.00       -0.24        0.00        1.03   \n",
      "\n",
      "   01/07/2016  01/08/2016  01/09/2016  01/10/2016  ...  01/12/2019  \\\n",
      "0        0.00        0.00        0.00        0.00  ...        0.00   \n",
      "1        0.09        0.06       -0.09       -0.04  ...        0.07   \n",
      "2        0.00        0.00        0.00        0.00  ...        0.00   \n",
      "3       -0.14       -0.03       -0.02        0.28  ...        0.44   \n",
      "4        1.50        1.50        0.00        0.00  ...        0.00   \n",
      "\n",
      "   01/01/2020  01/02/2020  01/03/2020  01/04/2020  01/05/2020  01/06/2020  \\\n",
      "0        0.00        0.00        0.00        0.00        0.00        0.00   \n",
      "1       -0.04        0.06       -0.08        0.02       -0.04        0.12   \n",
      "2        0.00        0.00        0.00        0.00        0.00        0.00   \n",
      "3       -0.14        0.71        1.62        1.27       -0.01       -0.38   \n",
      "4        0.00        0.00        0.00        0.00        0.00        0.00   \n",
      "\n",
      "   01/07/2020  01/08/2020  01/09/2020  \n",
      "0        0.00        0.00        0.00  \n",
      "1       -0.01        0.05        0.01  \n",
      "2        0.00        0.00        0.00  \n",
      "3       -0.48       -0.51        6.81  \n",
      "4        0.00       -0.24       -0.15  \n",
      "\n",
      "[5 rows x 57 columns]\n"
     ]
    }
   ],
   "source": [
    "#changing this to be a more descriptive name, adding file to git as well\n",
    "sales_data = pd.read_csv(\"sarah_yoy.csv\", header = 1)\n",
    "sales_data.index = sales_data.index.astype(int)\n",
    "sales_data = sales_data.rename(columns={\"Region\":\"zip\"})\n",
    "#sales_data.set_index('zip', inplace = True)\n",
    "sales_data = sales_data.fillna(0)\n",
    "print(sales_data.head())"
   ]
  },
  {
   "cell_type": "markdown",
   "metadata": {},
   "source": [
    "Now we get sales data for each of our clusters"
   ]
  },
  {
   "cell_type": "code",
   "execution_count": 191,
   "metadata": {},
   "outputs": [
    {
     "data": {
      "text/html": [
       "<div>\n",
       "<style scoped>\n",
       "    .dataframe tbody tr th:only-of-type {\n",
       "        vertical-align: middle;\n",
       "    }\n",
       "\n",
       "    .dataframe tbody tr th {\n",
       "        vertical-align: top;\n",
       "    }\n",
       "\n",
       "    .dataframe thead th {\n",
       "        text-align: right;\n",
       "    }\n",
       "</style>\n",
       "<table border=\"1\" class=\"dataframe\">\n",
       "  <thead>\n",
       "    <tr style=\"text-align: right;\">\n",
       "      <th></th>\n",
       "      <th>zip</th>\n",
       "      <th>01/02/2016</th>\n",
       "      <th>01/03/2016</th>\n",
       "      <th>01/04/2016</th>\n",
       "      <th>01/05/2016</th>\n",
       "      <th>01/06/2016</th>\n",
       "      <th>01/07/2016</th>\n",
       "      <th>01/08/2016</th>\n",
       "      <th>01/09/2016</th>\n",
       "      <th>01/10/2016</th>\n",
       "      <th>...</th>\n",
       "      <th>01/01/2020</th>\n",
       "      <th>01/02/2020</th>\n",
       "      <th>01/03/2020</th>\n",
       "      <th>01/04/2020</th>\n",
       "      <th>01/05/2020</th>\n",
       "      <th>01/06/2020</th>\n",
       "      <th>01/07/2020</th>\n",
       "      <th>01/08/2020</th>\n",
       "      <th>01/09/2020</th>\n",
       "      <th>cluster</th>\n",
       "    </tr>\n",
       "  </thead>\n",
       "  <tbody>\n",
       "    <tr>\n",
       "      <th>0</th>\n",
       "      <td>1005.0</td>\n",
       "      <td>0.15</td>\n",
       "      <td>0.06</td>\n",
       "      <td>-0.30</td>\n",
       "      <td>-0.24</td>\n",
       "      <td>0.34</td>\n",
       "      <td>0.09</td>\n",
       "      <td>0.06</td>\n",
       "      <td>-0.09</td>\n",
       "      <td>-0.04</td>\n",
       "      <td>...</td>\n",
       "      <td>-0.04</td>\n",
       "      <td>0.06</td>\n",
       "      <td>-0.08</td>\n",
       "      <td>0.02</td>\n",
       "      <td>-0.04</td>\n",
       "      <td>0.12</td>\n",
       "      <td>-0.01</td>\n",
       "      <td>0.05</td>\n",
       "      <td>0.01</td>\n",
       "      <td>33</td>\n",
       "    </tr>\n",
       "    <tr>\n",
       "      <th>1</th>\n",
       "      <td>1010.0</td>\n",
       "      <td>0.00</td>\n",
       "      <td>0.00</td>\n",
       "      <td>0.00</td>\n",
       "      <td>0.00</td>\n",
       "      <td>0.00</td>\n",
       "      <td>0.00</td>\n",
       "      <td>0.00</td>\n",
       "      <td>0.00</td>\n",
       "      <td>0.00</td>\n",
       "      <td>...</td>\n",
       "      <td>0.00</td>\n",
       "      <td>0.00</td>\n",
       "      <td>0.00</td>\n",
       "      <td>0.00</td>\n",
       "      <td>0.00</td>\n",
       "      <td>0.00</td>\n",
       "      <td>0.00</td>\n",
       "      <td>0.00</td>\n",
       "      <td>0.00</td>\n",
       "      <td>38</td>\n",
       "    </tr>\n",
       "    <tr>\n",
       "      <th>2</th>\n",
       "      <td>1031.0</td>\n",
       "      <td>7.05</td>\n",
       "      <td>6.12</td>\n",
       "      <td>-0.25</td>\n",
       "      <td>-0.25</td>\n",
       "      <td>-0.83</td>\n",
       "      <td>-0.14</td>\n",
       "      <td>-0.03</td>\n",
       "      <td>-0.02</td>\n",
       "      <td>0.28</td>\n",
       "      <td>...</td>\n",
       "      <td>-0.14</td>\n",
       "      <td>0.71</td>\n",
       "      <td>1.62</td>\n",
       "      <td>1.27</td>\n",
       "      <td>-0.01</td>\n",
       "      <td>-0.38</td>\n",
       "      <td>-0.48</td>\n",
       "      <td>-0.51</td>\n",
       "      <td>6.81</td>\n",
       "      <td>79</td>\n",
       "    </tr>\n",
       "    <tr>\n",
       "      <th>3</th>\n",
       "      <td>1037.0</td>\n",
       "      <td>0.00</td>\n",
       "      <td>0.00</td>\n",
       "      <td>-0.24</td>\n",
       "      <td>0.00</td>\n",
       "      <td>1.03</td>\n",
       "      <td>1.50</td>\n",
       "      <td>1.50</td>\n",
       "      <td>0.00</td>\n",
       "      <td>0.00</td>\n",
       "      <td>...</td>\n",
       "      <td>0.00</td>\n",
       "      <td>0.00</td>\n",
       "      <td>0.00</td>\n",
       "      <td>0.00</td>\n",
       "      <td>0.00</td>\n",
       "      <td>0.00</td>\n",
       "      <td>0.00</td>\n",
       "      <td>-0.24</td>\n",
       "      <td>-0.15</td>\n",
       "      <td>80</td>\n",
       "    </tr>\n",
       "    <tr>\n",
       "      <th>4</th>\n",
       "      <td>1057.0</td>\n",
       "      <td>0.00</td>\n",
       "      <td>0.00</td>\n",
       "      <td>0.00</td>\n",
       "      <td>0.00</td>\n",
       "      <td>0.00</td>\n",
       "      <td>0.00</td>\n",
       "      <td>0.00</td>\n",
       "      <td>0.00</td>\n",
       "      <td>0.00</td>\n",
       "      <td>...</td>\n",
       "      <td>0.00</td>\n",
       "      <td>0.00</td>\n",
       "      <td>0.00</td>\n",
       "      <td>0.00</td>\n",
       "      <td>0.00</td>\n",
       "      <td>0.00</td>\n",
       "      <td>0.00</td>\n",
       "      <td>0.00</td>\n",
       "      <td>0.00</td>\n",
       "      <td>35</td>\n",
       "    </tr>\n",
       "  </tbody>\n",
       "</table>\n",
       "<p>5 rows × 58 columns</p>\n",
       "</div>"
      ],
      "text/plain": [
       "      zip  01/02/2016  01/03/2016  01/04/2016  01/05/2016  01/06/2016  \\\n",
       "0  1005.0        0.15        0.06       -0.30       -0.24        0.34   \n",
       "1  1010.0        0.00        0.00        0.00        0.00        0.00   \n",
       "2  1031.0        7.05        6.12       -0.25       -0.25       -0.83   \n",
       "3  1037.0        0.00        0.00       -0.24        0.00        1.03   \n",
       "4  1057.0        0.00        0.00        0.00        0.00        0.00   \n",
       "\n",
       "   01/07/2016  01/08/2016  01/09/2016  01/10/2016  ...  01/01/2020  \\\n",
       "0        0.09        0.06       -0.09       -0.04  ...       -0.04   \n",
       "1        0.00        0.00        0.00        0.00  ...        0.00   \n",
       "2       -0.14       -0.03       -0.02        0.28  ...       -0.14   \n",
       "3        1.50        1.50        0.00        0.00  ...        0.00   \n",
       "4        0.00        0.00        0.00        0.00  ...        0.00   \n",
       "\n",
       "   01/02/2020  01/03/2020  01/04/2020  01/05/2020  01/06/2020  01/07/2020  \\\n",
       "0        0.06       -0.08        0.02       -0.04        0.12       -0.01   \n",
       "1        0.00        0.00        0.00        0.00        0.00        0.00   \n",
       "2        0.71        1.62        1.27       -0.01       -0.38       -0.48   \n",
       "3        0.00        0.00        0.00        0.00        0.00        0.00   \n",
       "4        0.00        0.00        0.00        0.00        0.00        0.00   \n",
       "\n",
       "   01/08/2020  01/09/2020  cluster  \n",
       "0        0.05        0.01       33  \n",
       "1        0.00        0.00       38  \n",
       "2       -0.51        6.81       79  \n",
       "3       -0.24       -0.15       80  \n",
       "4        0.00        0.00       35  \n",
       "\n",
       "[5 rows x 58 columns]"
      ]
     },
     "execution_count": 191,
     "metadata": {},
     "output_type": "execute_result"
    }
   ],
   "source": [
    "cluster_sales = sales_data.merge(clusters, on=\"zip\")\n",
    "cluster_sales = cluster_sales.fillna(0)\n",
    "cluster_sales.head()"
   ]
  },
  {
   "cell_type": "markdown",
   "metadata": {},
   "source": [
    "Now create a dataframe which contains the mean sales data across all months for each zipcode in the cluster"
   ]
  },
  {
   "cell_type": "code",
   "execution_count": 192,
   "metadata": {},
   "outputs": [
    {
     "name": "stdout",
     "output_type": "stream",
     "text": [
      "             0  cluster     zip\n",
      "1517  0.045714        1  1545.0\n",
      "1518  0.060536        1  1701.0\n",
      "1519  0.071071        1  1801.0\n",
      "1520  0.076071        1  1844.0\n",
      "1521  0.057679        1  1890.0\n"
     ]
    },
    {
     "data": {
      "text/plain": [
       "(240, 3)"
      ]
     },
     "execution_count": 192,
     "metadata": {},
     "output_type": "execute_result"
    }
   ],
   "source": [
    "cluster_names = []\n",
    "mean_yoy_by_cluster = pd.DataFrame()\n",
    "\n",
    "for c in np.unique(cluster_sales[\"cluster\"]):\n",
    "    sub = cluster_sales[(cluster_sales['cluster'] == c)]\n",
    "    sub_no_zip = sub.drop(columns=[\"cluster\", \"zip\"])\n",
    "    tmp_df = sub_no_zip.mean(1).to_frame()\n",
    "    #tmp_df = tmp_df.transpose()\n",
    "    tmp_df[\"cluster\"] = c\n",
    "    tmp_df[\"zip\"] = sub[\"zip\"]\n",
    "    tmp_df.set_index(\"zip\")\n",
    "    mean_yoy_by_cluster = mean_yoy_by_cluster.append(tmp_df, ignore_index=True)\n",
    "\n",
    "#we can't do this here because we need it later, but we will set the index to zip before doing the OLS\n",
    "#mean_yoy_by_cluster = mean_yoy_by_cluster.set_index(\"zip\")\n",
    "\n",
    "print(mean_yoy_by_cluster[mean_yoy_by_cluster[\"cluster\"] == 1].head())\n",
    "mean_yoy_by_cluster[mean_yoy_by_cluster[\"cluster\"] == 1].shape"
   ]
  },
  {
   "cell_type": "markdown",
   "metadata": {},
   "source": [
    "Now we need to get the demographic data of selected fields for each cluster"
   ]
  },
  {
   "cell_type": "code",
   "execution_count": 193,
   "metadata": {},
   "outputs": [
    {
     "name": "stdout",
     "output_type": "stream",
     "text": [
      "      Population_18-34  Population_35-64  Income_100-124k  Income_125-149k  \\\n",
      "zip                                                                          \n",
      "1453              9084             16778           1489.0           1107.0   \n",
      "1503               451              1395            153.0             91.0   \n",
      "1590              1397              4295            450.0            281.0   \n",
      "1607              2301              3641            281.0            166.0   \n",
      "1702             11370             15189           1404.0            738.0   \n",
      "\n",
      "      Income_150-199k  Income>200k  Population_Density  cluster  \n",
      "zip                                                              \n",
      "1453           1023.0        710.0           1460.0410       -1  \n",
      "1503            162.0        170.0            242.3325       -1  \n",
      "1590            463.0        627.0            293.1133       -1  \n",
      "1607            102.0         74.0           2713.8210       -1  \n",
      "1702           1030.0        744.0           4839.5380       -1  \n"
     ]
    },
    {
     "data": {
      "text/plain": [
       "(240, 8)"
      ]
     },
     "execution_count": 193,
     "metadata": {},
     "output_type": "execute_result"
    }
   ],
   "source": [
    "\n",
    "all_cluster_demos = pd.DataFrame()\n",
    "\n",
    "# we'll just start with 1 to see if it works, can become all later\n",
    "\n",
    "for c in np.unique(clusters[\"cluster\"]):\n",
    "    zip_codes_for_cluster = mean_yoy_by_cluster[mean_yoy_by_cluster[\"cluster\"] == c]\n",
    "    cluster_demographics = demographics_data[demographics_data['zip'].isin(zip_codes_for_cluster[\"zip\"])]\n",
    "    cluster_demographics = cluster_demographics[['zip', 'SE_B01001_003','SE_B01001_004', 'SE_A14001_014', 'SE_A14001_015', 'SE_A14001_016', 'SE_A14001_017', 'SE_A00002_002']]\n",
    "    cluster_demographics.rename(columns = {\"SE_B01001_003\": \"Population_18-34\",\"SE_B01001_004\": \"Population_35-64\",\"SE_A14001_014\":\"Income_100-124k\",\"SE_A14001_015\":\"Income_125-149k\",\"SE_A14001_016\":\"Income_150-199k\",\"SE_A14001_017\":\"Income>200k\", \"SE_A00002_002\":\"Population_Density\"}, inplace = True)\n",
    "    cluster_demographics[\"cluster\"] = c\n",
    "    all_cluster_demos = all_cluster_demos.append(cluster_demographics, ignore_index=True)\n",
    "\n",
    "all_cluster_demos = all_cluster_demos.set_index('zip')\n",
    "print(all_cluster_demos.head())\n",
    "all_cluster_demos[all_cluster_demos[\"cluster\"] == 1].shape"
   ]
  },
  {
   "cell_type": "code",
   "execution_count": 194,
   "metadata": {},
   "outputs": [],
   "source": [
    "# now use zip as the index for the demographics\n",
    "mean_yoy_by_cluster = mean_yoy_by_cluster.set_index(\"zip\")"
   ]
  },
  {
   "cell_type": "code",
   "execution_count": 195,
   "metadata": {},
   "outputs": [
    {
     "data": {
      "text/html": [
       "<div>\n",
       "<style scoped>\n",
       "    .dataframe tbody tr th:only-of-type {\n",
       "        vertical-align: middle;\n",
       "    }\n",
       "\n",
       "    .dataframe tbody tr th {\n",
       "        vertical-align: top;\n",
       "    }\n",
       "\n",
       "    .dataframe thead th {\n",
       "        text-align: right;\n",
       "    }\n",
       "</style>\n",
       "<table border=\"1\" class=\"dataframe\">\n",
       "  <thead>\n",
       "    <tr style=\"text-align: right;\">\n",
       "      <th></th>\n",
       "      <th>Population_18-34</th>\n",
       "      <th>Population_35-64</th>\n",
       "      <th>Income_100-124k</th>\n",
       "      <th>Income_125-149k</th>\n",
       "      <th>Income_150-199k</th>\n",
       "      <th>Income&gt;200k</th>\n",
       "      <th>Population_Density</th>\n",
       "      <th>cluster</th>\n",
       "    </tr>\n",
       "    <tr>\n",
       "      <th>zip</th>\n",
       "      <th></th>\n",
       "      <th></th>\n",
       "      <th></th>\n",
       "      <th></th>\n",
       "      <th></th>\n",
       "      <th></th>\n",
       "      <th></th>\n",
       "      <th></th>\n",
       "    </tr>\n",
       "  </thead>\n",
       "  <tbody>\n",
       "    <tr>\n",
       "      <th>1545</th>\n",
       "      <td>6406</td>\n",
       "      <td>15544</td>\n",
       "      <td>1413.0</td>\n",
       "      <td>1374.0</td>\n",
       "      <td>1537.0</td>\n",
       "      <td>2531.0</td>\n",
       "      <td>1767.3880</td>\n",
       "      <td>1</td>\n",
       "    </tr>\n",
       "    <tr>\n",
       "      <th>1701</th>\n",
       "      <td>5670</td>\n",
       "      <td>14638</td>\n",
       "      <td>1577.0</td>\n",
       "      <td>1445.0</td>\n",
       "      <td>1854.0</td>\n",
       "      <td>2333.0</td>\n",
       "      <td>1919.5890</td>\n",
       "      <td>1</td>\n",
       "    </tr>\n",
       "    <tr>\n",
       "      <th>1801</th>\n",
       "      <td>9319</td>\n",
       "      <td>16556</td>\n",
       "      <td>2270.0</td>\n",
       "      <td>1466.0</td>\n",
       "      <td>1702.0</td>\n",
       "      <td>1479.0</td>\n",
       "      <td>3186.4410</td>\n",
       "      <td>1</td>\n",
       "    </tr>\n",
       "    <tr>\n",
       "      <th>1844</th>\n",
       "      <td>11016</td>\n",
       "      <td>20772</td>\n",
       "      <td>2121.0</td>\n",
       "      <td>1248.0</td>\n",
       "      <td>1866.0</td>\n",
       "      <td>1467.0</td>\n",
       "      <td>2251.8700</td>\n",
       "      <td>1</td>\n",
       "    </tr>\n",
       "    <tr>\n",
       "      <th>1890</th>\n",
       "      <td>2761</td>\n",
       "      <td>9627</td>\n",
       "      <td>597.0</td>\n",
       "      <td>663.0</td>\n",
       "      <td>914.0</td>\n",
       "      <td>3255.0</td>\n",
       "      <td>3759.1830</td>\n",
       "      <td>1</td>\n",
       "    </tr>\n",
       "    <tr>\n",
       "      <th>...</th>\n",
       "      <td>...</td>\n",
       "      <td>...</td>\n",
       "      <td>...</td>\n",
       "      <td>...</td>\n",
       "      <td>...</td>\n",
       "      <td>...</td>\n",
       "      <td>...</td>\n",
       "      <td>...</td>\n",
       "    </tr>\n",
       "    <tr>\n",
       "      <th>98125</th>\n",
       "      <td>11863</td>\n",
       "      <td>16521</td>\n",
       "      <td>1746.0</td>\n",
       "      <td>1039.0</td>\n",
       "      <td>1578.0</td>\n",
       "      <td>1694.0</td>\n",
       "      <td>7871.8840</td>\n",
       "      <td>1</td>\n",
       "    </tr>\n",
       "    <tr>\n",
       "      <th>98133</th>\n",
       "      <td>12284</td>\n",
       "      <td>19725</td>\n",
       "      <td>1915.0</td>\n",
       "      <td>1330.0</td>\n",
       "      <td>1643.0</td>\n",
       "      <td>1357.0</td>\n",
       "      <td>6659.4610</td>\n",
       "      <td>1</td>\n",
       "    </tr>\n",
       "    <tr>\n",
       "      <th>98682</th>\n",
       "      <td>14390</td>\n",
       "      <td>22042</td>\n",
       "      <td>2183.0</td>\n",
       "      <td>1517.0</td>\n",
       "      <td>1230.0</td>\n",
       "      <td>809.0</td>\n",
       "      <td>1928.8460</td>\n",
       "      <td>1</td>\n",
       "    </tr>\n",
       "    <tr>\n",
       "      <th>99208</th>\n",
       "      <td>11028</td>\n",
       "      <td>20858</td>\n",
       "      <td>2275.0</td>\n",
       "      <td>1217.0</td>\n",
       "      <td>1376.0</td>\n",
       "      <td>947.0</td>\n",
       "      <td>1099.0430</td>\n",
       "      <td>1</td>\n",
       "    </tr>\n",
       "    <tr>\n",
       "      <th>99654</th>\n",
       "      <td>14684</td>\n",
       "      <td>23839</td>\n",
       "      <td>2373.0</td>\n",
       "      <td>1638.0</td>\n",
       "      <td>1794.0</td>\n",
       "      <td>1224.0</td>\n",
       "      <td>124.7589</td>\n",
       "      <td>1</td>\n",
       "    </tr>\n",
       "  </tbody>\n",
       "</table>\n",
       "<p>240 rows × 8 columns</p>\n",
       "</div>"
      ],
      "text/plain": [
       "       Population_18-34  Population_35-64  Income_100-124k  Income_125-149k  \\\n",
       "zip                                                                           \n",
       "1545               6406             15544           1413.0           1374.0   \n",
       "1701               5670             14638           1577.0           1445.0   \n",
       "1801               9319             16556           2270.0           1466.0   \n",
       "1844              11016             20772           2121.0           1248.0   \n",
       "1890               2761              9627            597.0            663.0   \n",
       "...                 ...               ...              ...              ...   \n",
       "98125             11863             16521           1746.0           1039.0   \n",
       "98133             12284             19725           1915.0           1330.0   \n",
       "98682             14390             22042           2183.0           1517.0   \n",
       "99208             11028             20858           2275.0           1217.0   \n",
       "99654             14684             23839           2373.0           1638.0   \n",
       "\n",
       "       Income_150-199k  Income>200k  Population_Density  cluster  \n",
       "zip                                                               \n",
       "1545            1537.0       2531.0           1767.3880        1  \n",
       "1701            1854.0       2333.0           1919.5890        1  \n",
       "1801            1702.0       1479.0           3186.4410        1  \n",
       "1844            1866.0       1467.0           2251.8700        1  \n",
       "1890             914.0       3255.0           3759.1830        1  \n",
       "...                ...          ...                 ...      ...  \n",
       "98125           1578.0       1694.0           7871.8840        1  \n",
       "98133           1643.0       1357.0           6659.4610        1  \n",
       "98682           1230.0        809.0           1928.8460        1  \n",
       "99208           1376.0        947.0           1099.0430        1  \n",
       "99654           1794.0       1224.0            124.7589        1  \n",
       "\n",
       "[240 rows x 8 columns]"
      ]
     },
     "execution_count": 195,
     "metadata": {},
     "output_type": "execute_result"
    }
   ],
   "source": [
    "all_cluster_demos[all_cluster_demos[\"cluster\"] == 1]"
   ]
  },
  {
   "cell_type": "markdown",
   "metadata": {},
   "source": [
    "\n",
    "## Regression ##\n",
    "\n",
    "Now we can regress sales data against selected demographic features in each cluster."
   ]
  },
  {
   "cell_type": "code",
   "execution_count": 196,
   "metadata": {},
   "outputs": [],
   "source": [
    "\n",
    "all_models = []\n",
    "\n",
    "for c in np.unique(clusters[\"cluster\"]):\n",
    "    X = all_cluster_demos[all_cluster_demos[\"cluster\"] == c][['Population_18-34','Population_35-64', 'Income_100-124k', 'Income_125-149k', 'Income_150-199k', 'Income>200k','Population_Density']]\n",
    "    Y = mean_yoy_by_cluster[mean_yoy_by_cluster[\"cluster\"] == c][0]\n",
    "    model = sm.OLS(Y, X).fit()\n",
    "    all_models.append({\"cluster\":c, \"model\":model})\n",
    "    \n"
   ]
  },
  {
   "cell_type": "markdown",
   "metadata": {},
   "source": [
    "Because we have a large number of clusters and selected demographic features have different forecasting power to each cluster, we are more interested in which clusters' sales data can be better forecasted by selected demographic data"
   ]
  },
  {
   "cell_type": "code",
   "execution_count": 197,
   "metadata": {},
   "outputs": [
    {
     "name": "stdout",
     "output_type": "stream",
     "text": [
      " our best rsq adjusted across all of our models is 0.8804280195367171\n",
      " our best rsq across all of our models is 0.8839155356335628\n",
      " our best f stat across all of our models is 398.082636816682\n"
     ]
    }
   ],
   "source": [
    "rsq_adj = []\n",
    "rsq = []\n",
    "fstat = []\n",
    "\n",
    "for m in all_models:\n",
    "    rsq_adj.append(m[\"model\"].rsquared_adj)\n",
    "    rsq.append(m[\"model\"].rsquared)\n",
    "    fstat.append(m[\"model\"].fvalue)\n",
    "    \n",
    "print(\" our best rsq adjusted across all of our models is\", np.max(rsq_adj))\n",
    "print(\" our best rsq across all of our models is\", np.max(rsq))\n",
    "print(\" our best f stat across all of our models is\", np.max(fstat))"
   ]
  },
  {
   "cell_type": "code",
   "execution_count": 198,
   "metadata": {},
   "outputs": [
    {
     "data": {
      "text/plain": [
       "2"
      ]
     },
     "execution_count": 198,
     "metadata": {},
     "output_type": "execute_result"
    }
   ],
   "source": [
    "best_rsp = np.where(rsq==np.max(rsq))\n",
    "best_rsp[0][0]"
   ]
  },
  {
   "cell_type": "markdown",
   "metadata": {},
   "source": [
    "Our model's forecasting power varies in each cluster. Taking 2nd cluster as an example, the model is able to explan 88% of the variation in sales data. Our model is positively correlated to the population between 35-64, income between 100k and 124k, or income between 150k and 199k, because they have more purchasing power for houses."
   ]
  },
  {
   "cell_type": "code",
   "execution_count": 199,
   "metadata": {},
   "outputs": [
    {
     "data": {
      "text/html": [
       "<table class=\"simpletable\">\n",
       "<caption>OLS Regression Results</caption>\n",
       "<tr>\n",
       "  <th>Dep. Variable:</th>            <td>y</td>        <th>  R-squared (uncentered):</th>      <td>   0.884</td> \n",
       "</tr>\n",
       "<tr>\n",
       "  <th>Model:</th>                   <td>OLS</td>       <th>  Adj. R-squared (uncentered):</th> <td>   0.880</td> \n",
       "</tr>\n",
       "<tr>\n",
       "  <th>Method:</th>             <td>Least Squares</td>  <th>  F-statistic:       </th>          <td>   253.5</td> \n",
       "</tr>\n",
       "<tr>\n",
       "  <th>Date:</th>             <td>Tue, 08 Dec 2020</td> <th>  Prob (F-statistic):</th>          <td>3.75e-105</td>\n",
       "</tr>\n",
       "<tr>\n",
       "  <th>Time:</th>                 <td>12:11:53</td>     <th>  Log-Likelihood:    </th>          <td>  569.89</td> \n",
       "</tr>\n",
       "<tr>\n",
       "  <th>No. Observations:</th>      <td>   240</td>      <th>  AIC:               </th>          <td>  -1126.</td> \n",
       "</tr>\n",
       "<tr>\n",
       "  <th>Df Residuals:</th>          <td>   233</td>      <th>  BIC:               </th>          <td>  -1101.</td> \n",
       "</tr>\n",
       "<tr>\n",
       "  <th>Df Model:</th>              <td>     7</td>      <th>                     </th>              <td> </td>    \n",
       "</tr>\n",
       "<tr>\n",
       "  <th>Covariance Type:</th>      <td>nonrobust</td>    <th>                     </th>              <td> </td>    \n",
       "</tr>\n",
       "</table>\n",
       "<table class=\"simpletable\">\n",
       "<tr>\n",
       "           <td></td>             <th>coef</th>     <th>std err</th>      <th>t</th>      <th>P>|t|</th>  <th>[0.025</th>    <th>0.975]</th>  \n",
       "</tr>\n",
       "<tr>\n",
       "  <th>Population_18-34</th>   <td> 1.634e-07</td> <td>  4.8e-07</td> <td>    0.340</td> <td> 0.734</td> <td>-7.82e-07</td> <td> 1.11e-06</td>\n",
       "</tr>\n",
       "<tr>\n",
       "  <th>Population_35-64</th>   <td> 1.128e-06</td> <td> 4.52e-07</td> <td>    2.495</td> <td> 0.013</td> <td> 2.38e-07</td> <td> 2.02e-06</td>\n",
       "</tr>\n",
       "<tr>\n",
       "  <th>Income_100-124k</th>    <td> 1.477e-05</td> <td> 5.29e-06</td> <td>    2.792</td> <td> 0.006</td> <td> 4.35e-06</td> <td> 2.52e-05</td>\n",
       "</tr>\n",
       "<tr>\n",
       "  <th>Income_125-149k</th>    <td>  1.11e-05</td> <td> 7.81e-06</td> <td>    1.421</td> <td> 0.157</td> <td>-4.29e-06</td> <td> 2.65e-05</td>\n",
       "</tr>\n",
       "<tr>\n",
       "  <th>Income_150-199k</th>    <td>-1.143e-05</td> <td>    6e-06</td> <td>   -1.906</td> <td> 0.058</td> <td>-2.33e-05</td> <td> 3.82e-07</td>\n",
       "</tr>\n",
       "<tr>\n",
       "  <th>Income>200k</th>        <td> 8.184e-06</td> <td> 2.08e-06</td> <td>    3.940</td> <td> 0.000</td> <td> 4.09e-06</td> <td> 1.23e-05</td>\n",
       "</tr>\n",
       "<tr>\n",
       "  <th>Population_Density</th> <td> 5.329e-07</td> <td> 1.86e-07</td> <td>    2.869</td> <td> 0.005</td> <td> 1.67e-07</td> <td> 8.99e-07</td>\n",
       "</tr>\n",
       "</table>\n",
       "<table class=\"simpletable\">\n",
       "<tr>\n",
       "  <th>Omnibus:</th>       <td>20.637</td> <th>  Durbin-Watson:     </th> <td>   1.613</td>\n",
       "</tr>\n",
       "<tr>\n",
       "  <th>Prob(Omnibus):</th> <td> 0.000</td> <th>  Jarque-Bera (JB):  </th> <td>  60.019</td>\n",
       "</tr>\n",
       "<tr>\n",
       "  <th>Skew:</th>          <td> 0.272</td> <th>  Prob(JB):          </th> <td>9.27e-14</td>\n",
       "</tr>\n",
       "<tr>\n",
       "  <th>Kurtosis:</th>      <td> 5.389</td> <th>  Cond. No.          </th> <td>    140.</td>\n",
       "</tr>\n",
       "</table><br/><br/>Notes:<br/>[1] R² is computed without centering (uncentered) since the model does not contain a constant.<br/>[2] Standard Errors assume that the covariance matrix of the errors is correctly specified."
      ],
      "text/plain": [
       "<class 'statsmodels.iolib.summary.Summary'>\n",
       "\"\"\"\n",
       "                                 OLS Regression Results                                \n",
       "=======================================================================================\n",
       "Dep. Variable:                      y   R-squared (uncentered):                   0.884\n",
       "Model:                            OLS   Adj. R-squared (uncentered):              0.880\n",
       "Method:                 Least Squares   F-statistic:                              253.5\n",
       "Date:                Tue, 08 Dec 2020   Prob (F-statistic):                   3.75e-105\n",
       "Time:                        12:11:53   Log-Likelihood:                          569.89\n",
       "No. Observations:                 240   AIC:                                     -1126.\n",
       "Df Residuals:                     233   BIC:                                     -1101.\n",
       "Df Model:                           7                                                  \n",
       "Covariance Type:            nonrobust                                                  \n",
       "======================================================================================\n",
       "                         coef    std err          t      P>|t|      [0.025      0.975]\n",
       "--------------------------------------------------------------------------------------\n",
       "Population_18-34    1.634e-07    4.8e-07      0.340      0.734   -7.82e-07    1.11e-06\n",
       "Population_35-64    1.128e-06   4.52e-07      2.495      0.013    2.38e-07    2.02e-06\n",
       "Income_100-124k     1.477e-05   5.29e-06      2.792      0.006    4.35e-06    2.52e-05\n",
       "Income_125-149k      1.11e-05   7.81e-06      1.421      0.157   -4.29e-06    2.65e-05\n",
       "Income_150-199k    -1.143e-05      6e-06     -1.906      0.058   -2.33e-05    3.82e-07\n",
       "Income>200k         8.184e-06   2.08e-06      3.940      0.000    4.09e-06    1.23e-05\n",
       "Population_Density  5.329e-07   1.86e-07      2.869      0.005    1.67e-07    8.99e-07\n",
       "==============================================================================\n",
       "Omnibus:                       20.637   Durbin-Watson:                   1.613\n",
       "Prob(Omnibus):                  0.000   Jarque-Bera (JB):               60.019\n",
       "Skew:                           0.272   Prob(JB):                     9.27e-14\n",
       "Kurtosis:                       5.389   Cond. No.                         140.\n",
       "==============================================================================\n",
       "\n",
       "Notes:\n",
       "[1] R² is computed without centering (uncentered) since the model does not contain a constant.\n",
       "[2] Standard Errors assume that the covariance matrix of the errors is correctly specified.\n",
       "\"\"\""
      ]
     },
     "execution_count": 199,
     "metadata": {},
     "output_type": "execute_result"
    }
   ],
   "source": [
    "all_models[best_rsp[0][0]]['model'].summary()"
   ]
  }
 ],
 "metadata": {
  "kernelspec": {
   "display_name": "Python 3",
   "language": "python",
   "name": "python3"
  },
  "language_info": {
   "codemirror_mode": {
    "name": "ipython",
    "version": 3
   },
   "file_extension": ".py",
   "mimetype": "text/x-python",
   "name": "python",
   "nbconvert_exporter": "python",
   "pygments_lexer": "ipython3",
   "version": "3.7.6"
  }
 },
 "nbformat": 4,
 "nbformat_minor": 2
}
